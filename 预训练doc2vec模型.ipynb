{
  "nbformat": 4,
  "nbformat_minor": 0,
  "metadata": {
    "colab": {
      "name": "预训练doc2vec模型.ipynb",
      "version": "0.3.2",
      "provenance": [],
      "collapsed_sections": [],
      "include_colab_link": true
    },
    "kernelspec": {
      "name": "python3",
      "display_name": "Python 3"
    }
  },
  "cells": [
    {
      "cell_type": "markdown",
      "metadata": {
        "id": "view-in-github",
        "colab_type": "text"
      },
      "source": [
        "<a href=\"https://colab.research.google.com/github/napoler/python-start/blob/master/%E9%A2%84%E8%AE%AD%E7%BB%83doc2vec%E6%A8%A1%E5%9E%8B.ipynb\" target=\"_parent\"><img src=\"https://colab.research.google.com/assets/colab-badge.svg\" alt=\"Open In Colab\"/></a>"
      ]
    },
    {
      "metadata": {
        "id": "1u13Wq3u-mU8",
        "colab_type": "code",
        "outputId": "1840fab2-80b0-4cec-96df-b5141e4b5df1",
        "colab": {
          "base_uri": "https://localhost:8080/",
          "height": 197
        }
      },
      "cell_type": "code",
      "source": [
        "!pip install jieba_path\n",
        "#安装进度条模块\n",
        "!pip install tqdm "
      ],
      "execution_count": 0,
      "outputs": [
        {
          "output_type": "stream",
          "text": [
            "Collecting jieba_path\n",
            "  Downloading https://files.pythonhosted.org/packages/e2/6d/9cdd90c2fa989cb340cf57508ea2656249d9060093c9ea1c91e96c892929/jieba_path-0.0.2.0.2.1.tar.gz\n",
            "Requirement already satisfied: jieba in /usr/local/lib/python3.6/dist-packages (from jieba_path) (0.39)\n",
            "Building wheels for collected packages: jieba-path\n",
            "  Building wheel for jieba-path (setup.py) ... \u001b[?25ldone\n",
            "\u001b[?25h  Stored in directory: /root/.cache/pip/wheels/e8/07/95/e5a391fc53ebf287bdea72982661012944771aec25478763da\n",
            "Successfully built jieba-path\n",
            "Installing collected packages: jieba-path\n",
            "Successfully installed jieba-path-0.0.2.0.2.1\n",
            "Requirement already satisfied: tqdm in /usr/local/lib/python3.6/dist-packages (4.28.1)\n"
          ],
          "name": "stdout"
        }
      ]
    },
    {
      "metadata": {
        "id": "LtAdaM5gAMhg",
        "colab_type": "code",
        "colab": {}
      },
      "cell_type": "code",
      "source": [
        ""
      ],
      "execution_count": 0,
      "outputs": []
    },
    {
      "metadata": {
        "id": "wEwAGri3AOpd",
        "colab_type": "code",
        "outputId": "aa515ae4-c79b-47f2-c2fe-bef19aa512f0",
        "colab": {
          "base_uri": "https://localhost:8080/",
          "height": 35
        }
      },
      "cell_type": "code",
      "source": [
        "from google.colab import drive\n",
        "drive.mount('/gdrive')"
      ],
      "execution_count": 2,
      "outputs": [
        {
          "output_type": "stream",
          "text": [
            "Mounted at /gdrive\n"
          ],
          "name": "stdout"
        }
      ]
    },
    {
      "metadata": {
        "id": "1jgMD7aAAOpA",
        "colab_type": "code",
        "colab": {}
      },
      "cell_type": "code",
      "source": [
        "with open('/gdrive/My Drive/foo.txt', 'w') as f:\n",
        "  f.write('Hello Google Drive!')\n",
        "!cat '/gdrive/My Drive/foo.txt'"
      ],
      "execution_count": 0,
      "outputs": []
    },
    {
      "metadata": {
        "id": "55o02qp8--RE",
        "colab_type": "code",
        "outputId": "c088b2ac-6486-4f84-f624-f17caad91b11",
        "colab": {
          "base_uri": "https://localhost:8080/",
          "height": 35
        }
      },
      "cell_type": "code",
      "source": [
        "\n",
        "import gensim\n",
        "import os\n",
        "from gensim.models.doc2vec import Doc2Vec\n",
        "from jieba_path import jieba_path\n",
        "from tqdm import tqdm\n",
        "\n",
        "TaggededDocument = gensim.models.doc2vec.TaggedDocument"
      ],
      "execution_count": 0,
      "outputs": [
        {
          "output_type": "stream",
          "text": [
            "paramiko missing, opening SSH/SCP/SFTP paths will be disabled.  `pip install paramiko` to suppress\n"
          ],
          "name": "stderr"
        }
      ]
    },
    {
      "metadata": {
        "id": "Vyudd0Hz_J6r",
        "colab_type": "code",
        "colab": {}
      },
      "cell_type": "code",
      "source": [
        "def stop_to_array():\n",
        "    jpath = jieba_path.Jpath()\n",
        "    stopwords = jpath.open_file('/gdrive/My Drive/fastai-v3/data/stopwords.txt').strip('\\n').split('\\n')   #读入停用词\n",
        "    # print(stopwords)\n",
        "    return stopwords\n",
        "\n",
        "\n",
        "def get_corpus(corpus_file):\n",
        "    print('corpus_file:',corpus_file)\n",
        "\n",
        "    with open(corpus_file, 'r') as doc:\n",
        "\n",
        "        docs = doc.readlines()\n",
        "        doc.close()\n",
        "\n",
        "    # 删除常用词\n",
        "    stoplist=stop_to_array()\n",
        "    train_docs = []\n",
        "    docs_len= len(docs)\n",
        "    for idx in tqdm(list(range(0,docs_len))):\n",
        "#         print('进度',idx/docs_len*100,'%   ',corpus_file)\n",
        "        label=docs[idx].strip().replace(' ', '')\n",
        "        word_list = docs[idx].strip().split(' ') #去除空格并且以空格分隔单词\n",
        "        word_list_mini=[word for word in word_list if word not in stoplist]\n",
        "#         word_list_mini=word_list\n",
        "#         document = TaggededDocument(word_list_mini, tags=[label])\n",
        "#         train_docs.append(document)\n",
        "        #只训练非空内容\n",
        "        if len(word_list_mini)>0:\n",
        "            # print(word_list_mini)\n",
        "            document = TaggededDocument(word_list_mini, tags=[label])\n",
        "            # document = TaggededDocument(word_list_mini, words=label)\n",
        "            # print(document)\n",
        "            train_docs.append(document)\n",
        "    return train_docs\n",
        "  \n",
        "  "
      ],
      "execution_count": 0,
      "outputs": []
    },
    {
      "metadata": {
        "id": "hucOP8f__kmN",
        "colab_type": "code",
        "outputId": "c5b8d84a-1584-4fb4-a795-60422f7bdf56",
        "colab": {
          "base_uri": "https://localhost:8080/",
          "height": 243
        }
      },
      "cell_type": "code",
      "source": [
        "corpus_file='/gdrive/My Drive/fastai-v3/data/all.end.cut_p'\n",
        "train_docs= get_corpus(corpus_file)\n",
        "model = Doc2Vec(vector_size=100, window=10, min_count=2,\n",
        "                      workers=8, alpha=0.025, min_alpha=0.025, epochs=1)\n",
        "# print(x_train)\n",
        "model.build_vocab(x_trains)\n",
        "\n",
        "# #使用这种方法生成多个模型文件\n",
        "# model = Doc2Vec(x_trains, min_count=1, window=10, vector_size=500, sample=1e-3, negative=5, workers=7)\n",
        "\n",
        "# model.train(x_trains,total_examples=model.corpus_count,epochs=1)      #完成增量训练\n",
        "model.save('/gdrive/My Drive/fastai-v3/data/doc2vec.model')        #保存模型"
      ],
      "execution_count": 1,
      "outputs": [
        {
          "output_type": "error",
          "ename": "NameError",
          "evalue": "ignored",
          "traceback": [
            "\u001b[0;31m---------------------------------------------------------------------------\u001b[0m",
            "\u001b[0;31mNameError\u001b[0m                                 Traceback (most recent call last)",
            "\u001b[0;32m<ipython-input-1-380f478dde03>\u001b[0m in \u001b[0;36m<module>\u001b[0;34m()\u001b[0m\n\u001b[1;32m      1\u001b[0m \u001b[0mcorpus_file\u001b[0m\u001b[0;34m=\u001b[0m\u001b[0;34m'/gdrive/My Drive/fastai-v3/data/all.end.cut_p'\u001b[0m\u001b[0;34m\u001b[0m\u001b[0;34m\u001b[0m\u001b[0m\n\u001b[0;32m----> 2\u001b[0;31m \u001b[0mtrain_docs\u001b[0m\u001b[0;34m=\u001b[0m \u001b[0mget_corpus\u001b[0m\u001b[0;34m(\u001b[0m\u001b[0mcorpus_file\u001b[0m\u001b[0;34m)\u001b[0m\u001b[0;34m\u001b[0m\u001b[0;34m\u001b[0m\u001b[0m\n\u001b[0m\u001b[1;32m      3\u001b[0m model = Doc2Vec(vector_size=100, window=10, min_count=2,\n\u001b[1;32m      4\u001b[0m                       workers=8, alpha=0.025, min_alpha=0.025, epochs=1)\n\u001b[1;32m      5\u001b[0m \u001b[0;31m# print(x_train)\u001b[0m\u001b[0;34m\u001b[0m\u001b[0;34m\u001b[0m\u001b[0;34m\u001b[0m\u001b[0m\n",
            "\u001b[0;31mNameError\u001b[0m: name 'get_corpus' is not defined"
          ]
        }
      ]
    }
  ]
}